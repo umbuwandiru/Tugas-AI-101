{
  "cells": [
    {
      "cell_type": "markdown",
      "metadata": {
        "id": "pBjiOlu2gtmp"
      },
      "source": [
        "<center><a href=\"https://www.nvidia.com/dli\"> <img src=\"https://github.com/stanley160990/AI-101/blob/main/04-Library_DS/Pelatihan-DLI.jpeg?raw=1\" alt=\"Header\" style=\"width: 1000px;\"/> </a></center>"
      ]
    },
    {
      "cell_type": "markdown",
      "metadata": {
        "id": "iE1jnACFgtmr"
      },
      "source": [
        "# Pengenalan Library Python untuk Data Science dan AI\n",
        "## Keras (Deep Learning Framework)\n",
        "### Pelatihan Deep Learning untuk TNI\n",
        "\n",
        "Notebook ini memperkenalkan **Keras**, library *high-level API* untuk **Deep Learning** di Python.\n",
        "Keras digunakan di atas **TensorFlow**, membuat proses pembuatan model AI menjadi cepat dan mudah.\n",
        "\n",
        "---\n",
        "## 🎯 Tujuan Pembelajaran\n",
        "- Mengenal konsep dasar Keras dan hubungannya dengan TensorFlow.\n",
        "- Mempelajari komponen model: layer, neuron, epoch, dan loss.\n",
        "- Membuat model regresi dan klasifikasi sederhana dengan Keras.\n",
        "- Menghubungkan Keras dengan konteks militer (prediksi, klasifikasi risiko)."
      ]
    },
    {
      "cell_type": "markdown",
      "metadata": {
        "id": "_2uRoDbBgtms"
      },
      "source": [
        "## 🟩 1️⃣ Apa itu Keras?\n",
        "\n",
        "**Keras** adalah antarmuka (*API*) tingkat tinggi untuk *Deep Learning* yang memudahkan pembuatan model AI.\n",
        "\n",
        "Keras memungkinkan kita membuat dan melatih jaringan saraf tiruan dengan beberapa baris kode saja."
      ]
    },
    {
      "cell_type": "code",
      "execution_count": 1,
      "metadata": {
        "id": "a7yH-wUNgtmt",
        "outputId": "e349bac7-d71a-4ffd-adf0-921701876eab",
        "colab": {
          "base_uri": "https://localhost:8080/"
        }
      },
      "outputs": [
        {
          "output_type": "stream",
          "name": "stdout",
          "text": [
            "TensorFlow version: 2.19.0\n",
            "Keras version: 3.10.0\n"
          ]
        }
      ],
      "source": [
        "# Import TensorFlow dan Keras\n",
        "import tensorflow as tf\n",
        "from tensorflow import keras\n",
        "\n",
        "print(\"TensorFlow version:\", tf.__version__)\n",
        "print(\"Keras version:\", keras.__version__)"
      ]
    },
    {
      "cell_type": "markdown",
      "metadata": {
        "id": "zHSkmTmCgtmv"
      },
      "source": [
        "## 🟩 2️⃣ Struktur Model Keras\n",
        "\n",
        "**Keras Sequential Model:**\n",
        "```\n",
        "Input Layer → Hidden Layers → Output Layer\n",
        "```\n",
        "\n",
        "**Komponen utama:**\n",
        "- `Dense` → Layer fully connected.\n",
        "- `Activation` → Fungsi yang mengubah nilai (ReLU, Sigmoid, Softmax).\n",
        "- `Optimizer` → Algoritma untuk memperbaiki bobot.\n",
        "- `Loss` → Mengukur kesalahan model.\n",
        "- `Epoch` → Jumlah iterasi pelatihan."
      ]
    },
    {
      "cell_type": "markdown",
      "metadata": {
        "id": "KPmiFyEhgtmv"
      },
      "source": [
        "## 🟩 3️⃣ Model Regresi Linear Sederhana\n",
        "\n",
        "Model ini belajar hubungan antara jumlah prajurit dan kebutuhan logistik (y = 2x)."
      ]
    },
    {
      "cell_type": "code",
      "execution_count": 2,
      "metadata": {
        "id": "jom4BNGmgtmw",
        "outputId": "6cc8dafa-3546-40be-d0d2-670c7cfe5cd9",
        "colab": {
          "base_uri": "https://localhost:8080/"
        }
      },
      "outputs": [
        {
          "output_type": "stream",
          "name": "stderr",
          "text": [
            "/usr/local/lib/python3.12/dist-packages/keras/src/layers/core/dense.py:93: UserWarning: Do not pass an `input_shape`/`input_dim` argument to a layer. When using Sequential models, prefer using an `Input(shape)` object as the first layer in the model instead.\n",
            "  super().__init__(activity_regularizer=activity_regularizer, **kwargs)\n"
          ]
        },
        {
          "output_type": "stream",
          "name": "stdout",
          "text": [
            "\u001b[1m1/1\u001b[0m \u001b[32m━━━━━━━━━━━━━━━━━━━━\u001b[0m\u001b[37m\u001b[0m \u001b[1m0s\u001b[0m 66ms/step\n",
            "Prediksi untuk x=6: [[11.641354]]\n"
          ]
        }
      ],
      "source": [
        "from tensorflow.keras import layers\n",
        "import numpy as np\n",
        "\n",
        "# Data simulasi\n",
        "x = np.array([1, 2, 3, 4, 5])\n",
        "y = np.array([2, 4, 6, 8, 10])\n",
        "\n",
        "# Model Sequential\n",
        "model = keras.Sequential([\n",
        "    layers.Dense(1, input_shape=[1])\n",
        "])\n",
        "\n",
        "# Kompilasi model\n",
        "model.compile(optimizer='sgd', loss='mean_squared_error')\n",
        "\n",
        "# Latih model\n",
        "history = model.fit(x, y, epochs=100, verbose=0)\n",
        "\n",
        "# Prediksi\n",
        "print(\"Prediksi untuk x=6:\", model.predict(np.array([6])))"
      ]
    },
    {
      "cell_type": "markdown",
      "metadata": {
        "id": "mRPgi9QXgtmw"
      },
      "source": [
        "### Visualisasi Loss Training"
      ]
    },
    {
      "cell_type": "code",
      "execution_count": 3,
      "metadata": {
        "id": "EewfAjKBgtmw",
        "outputId": "314ba41c-5494-4da7-8b96-aed49dffdc23",
        "colab": {
          "base_uri": "https://localhost:8080/",
          "height": 472
        }
      },
      "outputs": [
        {
          "output_type": "display_data",
          "data": {
            "text/plain": [
              "<Figure size 640x480 with 1 Axes>"
            ],
            "image/png": "[encoded data removed]"
          },
          "metadata": {}
        }
      ],
      "source": [
        "import matplotlib.pyplot as plt\n",
        "\n",
        "plt.plot(history.history['loss'])\n",
        "plt.title('Perkembangan Loss Model')\n",
        "plt.xlabel('Epoch')\n",
        "plt.ylabel('Loss')\n",
        "plt.grid(True)\n",
        "plt.show()"
      ]
    },
    {
      "cell_type": "markdown",
      "metadata": {
        "id": "Z8nQelhOgtmx"
      },
      "source": [
        "## 🟩 4️⃣ Klasifikasi Sederhana — Kesiapan Operasi\n",
        "\n",
        "Model ini mengklasifikasikan status *Siap* (1) atau *Tidak Siap* (0) berdasarkan stok logistik."
      ]
    },
    {
      "cell_type": "code",
      "execution_count": 4,
      "metadata": {
        "id": "XE9cnOuNgtmx",
        "outputId": "b3f8d8d1-431c-46ff-fbad-5b74164df4db",
        "colab": {
          "base_uri": "https://localhost:8080/"
        }
      },
      "outputs": [
        {
          "output_type": "stream",
          "name": "stdout",
          "text": [
            "\u001b[1m1/1\u001b[0m \u001b[32m━━━━━━━━━━━━━━━━━━━━\u001b[0m\u001b[37m\u001b[0m \u001b[1m0s\u001b[0m 68ms/step\n",
            "Prediksi kesiapan logistik (stok=50): 0.0\n"
          ]
        }
      ],
      "source": [
        "from tensorflow.keras.models import Sequential\n",
        "from tensorflow.keras.layers import Dense\n",
        "\n",
        "data = np.array([[80], [60], [40], [20], [10]])  # stok logistik\n",
        "label = np.array([[1], [1], [0], [0], [0]])      # 1=Siap, 0=Tidak Siap\n",
        "\n",
        "model2 = Sequential([\n",
        "    Dense(4, activation='relu', input_shape=[1]),\n",
        "    Dense(1, activation='sigmoid')\n",
        "])\n",
        "\n",
        "model2.compile(optimizer='adam', loss='binary_crossentropy', metrics=['accuracy'])\n",
        "model2.fit(data, label, epochs=200, verbose=0)\n",
        "\n",
        "pred = model2.predict(np.array([[50]]))\n",
        "print(\"Prediksi kesiapan logistik (stok=50):\", round(pred[0][0], 2))"
      ]
    },
    {
      "cell_type": "markdown",
      "metadata": {
        "id": "5Fex_jBegtmx"
      },
      "source": [
        "### Visualisasi Probabilitas Kesiapan"
      ]
    },
    {
      "cell_type": "code",
      "execution_count": 5,
      "metadata": {
        "id": "ICMcjb-agtmx",
        "outputId": "b8bfeff8-ef47-44ca-bf40-d90eb79a68a4",
        "colab": {
          "base_uri": "https://localhost:8080/",
          "height": 489
        }
      },
      "outputs": [
        {
          "output_type": "stream",
          "name": "stdout",
          "text": [
            "\u001b[1m2/2\u001b[0m \u001b[32m━━━━━━━━━━━━━━━━━━━━\u001b[0m\u001b[37m\u001b[0m \u001b[1m0s\u001b[0m 49ms/step\n"
          ]
        },
        {
          "output_type": "display_data",
          "data": {
            "text/plain": [
              "<Figure size 640x480 with 1 Axes>"
            ],
            "image/png": "[encoded data removed]"
          },
          "metadata": {}
        }
      ],
      "source": [
        "x_values = np.linspace(0, 100, 50).reshape(-1, 1)\n",
        "predictions = model2.predict(x_values)\n",
        "\n",
        "plt.plot(x_values, predictions, color='green')\n",
        "plt.title('Prediksi Probabilitas Kesiapan Logistik')\n",
        "plt.xlabel('Stok Logistik (%)')\n",
        "plt.ylabel('Probabilitas Siap')\n",
        "plt.grid(True)\n",
        "plt.show()"
      ]
    },
    {
      "cell_type": "markdown",
      "metadata": {
        "id": "9DnpoHJ9gtmx"
      },
      "source": [
        "## 🟩 5️⃣ Artificial Neural Network (ANN)\n",
        "\n",
        "Model multilayer digunakan untuk menganalisis hubungan kompleks seperti kombinasi prajurit dan ancaman terhadap kesiapan misi."
      ]
    },
    {
      "cell_type": "code",
      "execution_count": 6,
      "metadata": {
        "id": "dZ3IwosMgtmx",
        "outputId": "e530c7da-cf59-4a06-fbe2-ad276d5e8d80",
        "colab": {
          "base_uri": "https://localhost:8080/",
          "height": 223
        }
      },
      "outputs": [
        {
          "output_type": "display_data",
          "data": {
            "text/plain": [
              "\u001b[1mModel: \"sequential_2\"\u001b[0m\n"
            ],
            "text/html": [
              "<pre style=\"white-space:pre;overflow-x:auto;line-height:normal;font-family:Menlo,'DejaVu Sans Mono',consolas,'Courier New',monospace\"><span style=\"font-weight: bold\">Model: \"sequential_2\"</span>\n",
              "</pre>\n"
            ]
          },
          "metadata": {}
        },
        {
          "output_type": "display_data",
          "data": {
            "text/plain": [
              "┏━━━━━━━━━━━━━━━━━━━━━━━━━━━━━━━━━┳━━━━━━━━━━━━━━━━━━━━━━━━┳━━━━━━━━━━━━━━━┓\n",
              "┃\u001b[1m \u001b[0m\u001b[1mLayer (type)                   \u001b[0m\u001b[1m \u001b[0m┃\u001b[1m \u001b[0m\u001b[1mOutput Shape          \u001b[0m\u001b[1m \u001b[0m┃\u001b[1m \u001b[0m\u001b[1m      Param #\u001b[0m\u001b[1m \u001b[0m┃\n",
              "┡━━━━━━━━━━━━━━━━━━━━━━━━━━━━━━━━━╇━━━━━━━━━━━━━━━━━━━━━━━━╇━━━━━━━━━━━━━━━┩\n",
              "│ dense_3 (\u001b[38;5;33mDense\u001b[0m)                 │ (\u001b[38;5;45mNone\u001b[0m, \u001b[38;5;34m8\u001b[0m)              │            \u001b[38;5;34m24\u001b[0m │\n",
              "├─────────────────────────────────┼────────────────────────┼───────────────┤\n",
              "│ dense_4 (\u001b[38;5;33mDense\u001b[0m)                 │ (\u001b[38;5;45mNone\u001b[0m, \u001b[38;5;34m4\u001b[0m)              │            \u001b[38;5;34m36\u001b[0m │\n",
              "├─────────────────────────────────┼────────────────────────┼───────────────┤\n",
              "│ dense_5 (\u001b[38;5;33mDense\u001b[0m)                 │ (\u001b[38;5;45mNone\u001b[0m, \u001b[38;5;34m1\u001b[0m)              │             \u001b[38;5;34m5\u001b[0m │\n",
              "└─────────────────────────────────┴────────────────────────┴───────────────┘\n"
            ],
            "text/html": [
              "<pre style=\"white-space:pre;overflow-x:auto;line-height:normal;font-family:Menlo,'DejaVu Sans Mono',consolas,'Courier New',monospace\">┏━━━━━━━━━━━━━━━━━━━━━━━━━━━━━━━━━┳━━━━━━━━━━━━━━━━━━━━━━━━┳━━━━━━━━━━━━━━━┓\n",
              "┃<span style=\"font-weight: bold\"> Layer (type)                    </span>┃<span style=\"font-weight: bold\"> Output Shape           </span>┃<span style=\"font-weight: bold\">       Param # </span>┃\n",
              "┡━━━━━━━━━━━━━━━━━━━━━━━━━━━━━━━━━╇━━━━━━━━━━━━━━━━━━━━━━━━╇━━━━━━━━━━━━━━━┩\n",
              "│ dense_3 (<span style=\"color: #0087ff; text-decoration-color: #0087ff\">Dense</span>)                 │ (<span style=\"color: #00d7ff; text-decoration-color: #00d7ff\">None</span>, <span style=\"color: #00af00; text-decoration-color: #00af00\">8</span>)              │            <span style=\"color: #00af00; text-decoration-color: #00af00\">24</span> │\n",
              "├─────────────────────────────────┼────────────────────────┼───────────────┤\n",
              "│ dense_4 (<span style=\"color: #0087ff; text-decoration-color: #0087ff\">Dense</span>)                 │ (<span style=\"color: #00d7ff; text-decoration-color: #00d7ff\">None</span>, <span style=\"color: #00af00; text-decoration-color: #00af00\">4</span>)              │            <span style=\"color: #00af00; text-decoration-color: #00af00\">36</span> │\n",
              "├─────────────────────────────────┼────────────────────────┼───────────────┤\n",
              "│ dense_5 (<span style=\"color: #0087ff; text-decoration-color: #0087ff\">Dense</span>)                 │ (<span style=\"color: #00d7ff; text-decoration-color: #00d7ff\">None</span>, <span style=\"color: #00af00; text-decoration-color: #00af00\">1</span>)              │             <span style=\"color: #00af00; text-decoration-color: #00af00\">5</span> │\n",
              "└─────────────────────────────────┴────────────────────────┴───────────────┘\n",
              "</pre>\n"
            ]
          },
          "metadata": {}
        },
        {
          "output_type": "display_data",
          "data": {
            "text/plain": [
              "\u001b[1m Total params: \u001b[0m\u001b[38;5;34m65\u001b[0m (260.00 B)\n"
            ],
            "text/html": [
              "<pre style=\"white-space:pre;overflow-x:auto;line-height:normal;font-family:Menlo,'DejaVu Sans Mono',consolas,'Courier New',monospace\"><span style=\"font-weight: bold\"> Total params: </span><span style=\"color: #00af00; text-decoration-color: #00af00\">65</span> (260.00 B)\n",
              "</pre>\n"
            ]
          },
          "metadata": {}
        },
        {
          "output_type": "display_data",
          "data": {
            "text/plain": [
              "\u001b[1m Trainable params: \u001b[0m\u001b[38;5;34m65\u001b[0m (260.00 B)\n"
            ],
            "text/html": [
              "<pre style=\"white-space:pre;overflow-x:auto;line-height:normal;font-family:Menlo,'DejaVu Sans Mono',consolas,'Courier New',monospace\"><span style=\"font-weight: bold\"> Trainable params: </span><span style=\"color: #00af00; text-decoration-color: #00af00\">65</span> (260.00 B)\n",
              "</pre>\n"
            ]
          },
          "metadata": {}
        },
        {
          "output_type": "display_data",
          "data": {
            "text/plain": [
              "\u001b[1m Non-trainable params: \u001b[0m\u001b[38;5;34m0\u001b[0m (0.00 B)\n"
            ],
            "text/html": [
              "<pre style=\"white-space:pre;overflow-x:auto;line-height:normal;font-family:Menlo,'DejaVu Sans Mono',consolas,'Courier New',monospace\"><span style=\"font-weight: bold\"> Non-trainable params: </span><span style=\"color: #00af00; text-decoration-color: #00af00\">0</span> (0.00 B)\n",
              "</pre>\n"
            ]
          },
          "metadata": {}
        }
      ],
      "source": [
        "model3 = Sequential([\n",
        "    Dense(8, activation='relu', input_shape=[2]),\n",
        "    Dense(4, activation='relu'),\n",
        "    Dense(1, activation='sigmoid')\n",
        "])\n",
        "\n",
        "model3.summary()"
      ]
    },
    {
      "cell_type": "markdown",
      "metadata": {
        "id": "j72jqyX6gtmx"
      },
      "source": [
        "## 🟩 6️⃣ Studi Kasus: Prediksi Risiko Misi\n",
        "\n",
        "Simulasi: prediksi apakah misi berisiko *Tinggi* atau *Rendah* berdasarkan **tingkat ancaman** dan **logistik**."
      ]
    },
    {
      "cell_type": "code",
      "execution_count": 7,
      "metadata": {
        "id": "nguUDgLZgtmx",
        "outputId": "bbdbd6f2-1987-47cb-ab3b-0b814790f796",
        "colab": {
          "base_uri": "https://localhost:8080/"
        }
      },
      "outputs": [
        {
          "output_type": "stream",
          "name": "stderr",
          "text": [
            "WARNING:tensorflow:5 out of the last 5 calls to <function TensorFlowTrainer.make_predict_function.<locals>.one_step_on_data_distributed at 0x7ee25ae07420> triggered tf.function retracing. Tracing is expensive and the excessive number of tracings could be due to (1) creating @tf.function repeatedly in a loop, (2) passing tensors with different shapes, (3) passing Python objects instead of tensors. For (1), please define your @tf.function outside of the loop. For (2), @tf.function has reduce_retracing=True option that can avoid unnecessary retracing. For (3), please refer to https://www.tensorflow.org/guide/function#controlling_retracing and https://www.tensorflow.org/api_docs/python/tf/function for  more details.\n"
          ]
        },
        {
          "output_type": "stream",
          "name": "stdout",
          "text": [
            "\u001b[1m1/1\u001b[0m \u001b[32m━━━━━━━━━━━━━━━━━━━━\u001b[0m\u001b[37m\u001b[0m \u001b[1m0s\u001b[0m 73ms/step\n",
            "Prediksi risiko misi: Tinggi\n"
          ]
        }
      ],
      "source": [
        "X = np.array([[0.2, 0.8], [0.4, 0.6], [0.7, 0.3], [0.9, 0.2]])\n",
        "Y = np.array([[0], [0], [1], [1]])  # 1=Risiko Tinggi\n",
        "\n",
        "model4 = Sequential([\n",
        "    Dense(4, activation='relu', input_shape=[2]),\n",
        "    Dense(1, activation='sigmoid')\n",
        "])\n",
        "\n",
        "model4.compile(optimizer='adam', loss='binary_crossentropy', metrics=['accuracy'])\n",
        "model4.fit(X, Y, epochs=300, verbose=0)\n",
        "\n",
        "pred = model4.predict(np.array([[0.6, 0.4]]))\n",
        "print(\"Prediksi risiko misi:\", 'Tinggi' if pred[0][0] > 0.5 else 'Rendah')"
      ]
    },
    {
      "cell_type": "markdown",
      "metadata": {
        "id": "a0K_Sr1Rgtmy"
      },
      "source": [
        "## 🟩 7️⃣ Menyimpan dan Memuat Model"
      ]
    },
    {
      "cell_type": "code",
      "execution_count": 8,
      "metadata": {
        "id": "GxOWeBbvgtmy",
        "outputId": "289b3b84-9c86-45ff-ace4-1687bb06072a",
        "colab": {
          "base_uri": "https://localhost:8080/"
        }
      },
      "outputs": [
        {
          "output_type": "stream",
          "name": "stderr",
          "text": [
            "WARNING:absl:You are saving your model as an HDF5 file via `model.save()` or `keras.saving.save_model(model)`. This file format is considered legacy. We recommend using instead the native Keras format, e.g. `model.save('my_model.keras')` or `keras.saving.save_model(model, 'my_model.keras')`. \n",
            "WARNING:absl:Compiled the loaded model, but the compiled metrics have yet to be built. `model.compile_metrics` will be empty until you train or evaluate the model.\n"
          ]
        },
        {
          "output_type": "stream",
          "name": "stdout",
          "text": [
            "Model berhasil dimuat ulang!\n"
          ]
        }
      ],
      "source": [
        "# Menyimpan model\n",
        "model4.save(\"model_risiko_misi.h5\")\n",
        "\n",
        "# Memuat kembali model\n",
        "new_model = keras.models.load_model(\"model_risiko_misi.h5\")\n",
        "print(\"Model berhasil dimuat ulang!\")"
      ]
    },
    {
      "cell_type": "markdown",
      "metadata": {
        "id": "HEM3a2bbgtmy"
      },
      "source": [
        "## 🟩 8️⃣ Exercise — Prediksi Kesiapan Unit Operasi\n",
        "\n",
        "**Tugas:**\n",
        "1. Buat dataset berisi 3 fitur: `jumlah_prajurit`, `logistik`, `ancaman`.\n",
        "2. Buat model *Sequential* dengan dua layer tersembunyi.\n",
        "3. Gunakan fungsi aktivasi `relu` dan `sigmoid`.\n",
        "4. Latih model untuk memprediksi kesiapan (1=Siap, 0=Tidak Siap).\n",
        "5. Tampilkan hasil akurasi dan plot grafik loss selama training."
      ]
    },
    {
      "cell_type": "code",
      "execution_count": 17,
      "metadata": {
        "id": "G1mbz7W3gtmy",
        "outputId": "a7a90932-08f1-4e04-ebb8-5cac58937899",
        "colab": {
          "base_uri": "https://localhost:8080/"
        }
      },
      "outputs": [
        {
          "output_type": "stream",
          "name": "stdout",
          "text": [
            "\u001b[1m1/1\u001b[0m \u001b[32m━━━━━━━━━━━━━━━━━━━━\u001b[0m\u001b[37m\u001b[0m \u001b[1m0s\u001b[0m 65ms/step\n",
            "Prediksi kesiapan unit: Siap\n"
          ]
        }
      ],
      "source": [
        "# 🧩 TODO: Latihan Keras untuk prediksi kesiapan unit operasi\n",
        "# Gunakan Sequential, Dense, compile, fit, dan evaluasi hasilnya\n",
        "X = np.array([[253, 0.8, 0.2], [186, 0.6, 0.4], [120, 0.3, 0.7], [100, 0.2, 0.9]])\n",
        "Y = np.array([[1], [1], [0], [0]])  # 1=Siap\n",
        "\n",
        "model_siap = tf.keras.Sequential([\n",
        "    tf.keras.layers.Dense(4, activation='relu', input_shape=[3]),\n",
        "    tf.keras.layers.Dense(1, activation='sigmoid')\n",
        "])\n",
        "\n",
        "model_siap.compile(optimizer='adam', loss='binary_crossentropy', metrics=['accuracy'])\n",
        "cek=model_siap.fit(X, Y, epochs=300, verbose=0)\n",
        "\n",
        "pred = model_siap.predict(np.array([[200, 0.6, 0.65]]))\n",
        "print(\"Prediksi kesiapan unit:\", 'Siap' if pred[0][0]>0.5 else 'Tidak Siap')\n"
      ]
    },
    {
      "cell_type": "code",
      "source": [
        "import matplotlib.pyplot as plt\n",
        "\n",
        "plt.plot(cek.history['loss'])\n",
        "plt.title('Perkembangan Loss Model (Semakin Kecil Semakin Baik)')\n",
        "plt.xlabel('Epoch')\n",
        "plt.ylabel('Loss')\n",
        "plt.show()"
      ],
      "metadata": {
        "id": "IOmzmVzjtwX-",
        "outputId": "5d4e6d86-3ac2-440e-e9af-65f23b8b7705",
        "colab": {
          "base_uri": "https://localhost:8080/",
          "height": 472
        }
      },
      "execution_count": 18,
      "outputs": [
        {
          "output_type": "display_data",
          "data": {
            "text/plain": [
              "<Figure size 640x480 with 1 Axes>"
            ],
            "image/png": "[encoded data removed]"
          },
          "metadata": {}
        }
      ]
    }
  ],
  "metadata": {
    "kernelspec": {
      "display_name": "Python 3 (ipykernel)",
      "language": "python",
      "name": "python3"
    },
    "language_info": {
      "codemirror_mode": {
        "name": "ipython",
        "version": 3
      },
      "file_extension": ".py",
      "mimetype": "text/x-python",
      "name": "python",
      "nbconvert_exporter": "python",
      "pygments_lexer": "ipython3",
      "version": "3.11.11"
    },
    "colab": {
      "provenance": []
    }
  },
  "nbformat": 4,
  "nbformat_minor": 0
}