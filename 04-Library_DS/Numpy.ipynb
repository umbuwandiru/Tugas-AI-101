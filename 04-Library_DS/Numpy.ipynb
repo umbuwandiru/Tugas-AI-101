{
  "cells": [
    {
      "cell_type": "markdown",
      "metadata": {
        "id": "96QvK3Y3QyiQ"
      },
      "source": [
        "<center><a href=\"https://www.nvidia.com/dli\"> <img src=\"https://github.com/stanley160990/AI-101/blob/main/04-Library_DS/Pelatihan-DLI.jpeg?raw=1\" alt=\"Header\" style=\"width: 1000px;\"/> </a></center>"
      ]
    },
    {
      "cell_type": "markdown",
      "metadata": {
        "id": "LzATJdpGQyid"
      },
      "source": [
        "# Pengenalan Library Python untuk Data Science dan AI\n",
        "## NumPy (Numerical Python)\n",
        "### Pelatihan Dasar Data Science untuk TNI\n",
        "\n",
        "Notebook ini memperkenalkan **NumPy**, library inti untuk komputasi numerik dalam Python.\n",
        "NumPy digunakan dalam banyak bidang, termasuk **analisis data, simulasi AI, dan sistem militer berbasis data**.\n",
        "\n",
        "---\n",
        "## 🎯 Tujuan Pembelajaran\n",
        "- Memahami konsep dasar library Python.\n",
        "- Mengenal NumPy dan fungsinya dalam Data Science.\n",
        "- Menggunakan array NumPy untuk operasi matematis dan analisis data.\n",
        "- Menerapkan NumPy dalam konteks militer/logistik.\n",
        "\n",
        "_“Data adalah amunisi baru — NumPy adalah mesinnya.”_"
      ]
    },
    {
      "cell_type": "markdown",
      "metadata": {
        "id": "Yjrk6ezFQyik"
      },
      "source": [
        "## 🟩 1️⃣ Apa itu NumPy?\n",
        "\n",
        "**NumPy (Numerical Python)** adalah library Python untuk **komputasi numerik cepat dan efisien**.\n",
        "\n",
        "### Fitur Utama NumPy:\n",
        "- Menyediakan **struktur data array multidimensi** (`ndarray`).\n",
        "- Mendukung operasi matematika, statistik, dan aljabar linear.\n",
        "- Sangat cepat dibanding `list` Python biasa.\n",
        "- Digunakan oleh library lain seperti Pandas, TensorFlow, dan Scikit-learn."
      ]
    },
    {
      "cell_type": "code",
      "execution_count": 1,
      "metadata": {
        "colab": {
          "base_uri": "https://localhost:8080/"
        },
        "id": "QRnbBkwRQyin",
        "outputId": "d4a9e8ad-83a2-4f3b-eb90-01236ac4aa79"
      },
      "outputs": [
        {
          "output_type": "stream",
          "name": "stdout",
          "text": [
            "NumPy siap digunakan untuk komputasi data TNI!\n",
            "Versi NumPy: 2.0.2\n"
          ]
        }
      ],
      "source": [
        "# Mengimpor Library NumPy\n",
        "import numpy as np\n",
        "\n",
        "print(\"NumPy siap digunakan untuk komputasi data TNI!\")\n",
        "print(\"Versi NumPy:\", np.__version__)"
      ]
    },
    {
      "cell_type": "markdown",
      "metadata": {
        "id": "UaYjosgJQyis"
      },
      "source": [
        "## 🟩 2️⃣ Membuat Array NumPy\n",
        "\n",
        "Array (`ndarray`) adalah struktur utama di NumPy untuk menyimpan data numerik.\n",
        "\n",
        "Array seperti barisan nilai: bisa 1 dimensi, 2 dimensi, atau lebih (misalnya matriks sensor radar)."
      ]
    },
    {
      "cell_type": "code",
      "execution_count": 2,
      "metadata": {
        "colab": {
          "base_uri": "https://localhost:8080/"
        },
        "id": "ciMGnngLQyiv",
        "outputId": "2600dda4-b969-4cc9-8ca9-4506d8799cd6"
      },
      "outputs": [
        {
          "output_type": "stream",
          "name": "stdout",
          "text": [
            "[10 20 30 40]\n",
            "Tipe data: <class 'numpy.ndarray'>\n"
          ]
        }
      ],
      "source": [
        "# Membuat array 1 dimensi\n",
        "data = np.array([10, 20, 30, 40])\n",
        "print(data)\n",
        "print(\"Tipe data:\", type(data))"
      ]
    },
    {
      "cell_type": "markdown",
      "metadata": {
        "id": "VxkKDzCWQyix"
      },
      "source": [
        "## 🟩 3️⃣ Operasi Aritmatika pada Array\n",
        "\n",
        "NumPy memungkinkan operasi matematika langsung antar array tanpa perlu perulangan manual."
      ]
    },
    {
      "cell_type": "code",
      "execution_count": 3,
      "metadata": {
        "colab": {
          "base_uri": "https://localhost:8080/"
        },
        "id": "CO2dUzJiQyiz",
        "outputId": "9607a19c-16ed-4a4c-9331-561b3b75a6ce"
      },
      "outputs": [
        {
          "output_type": "stream",
          "name": "stdout",
          "text": [
            "Penjumlahan: [110 220 330]\n",
            "Pengurangan: [ 90 180 270]\n",
            "Perkalian: [1000 4000 9000]\n",
            "Pembagian: [10. 10. 10.]\n"
          ]
        }
      ],
      "source": [
        "a = np.array([100, 200, 300])\n",
        "b = np.array([10, 20, 30])\n",
        "\n",
        "print(\"Penjumlahan:\", a + b)\n",
        "print(\"Pengurangan:\", a - b)\n",
        "print(\"Perkalian:\", a * b)\n",
        "print(\"Pembagian:\", a / b)"
      ]
    },
    {
      "cell_type": "markdown",
      "metadata": {
        "id": "EJHk5y9aQyi1"
      },
      "source": [
        "## 🟩 4️⃣ Operasi Statistik Dasar\n",
        "\n",
        "Fungsi statistik membantu kita menganalisis data, seperti menghitung **rata-rata, nilai maksimum, minimum, dan standar deviasi.**"
      ]
    },
    {
      "cell_type": "code",
      "execution_count": 4,
      "metadata": {
        "colab": {
          "base_uri": "https://localhost:8080/"
        },
        "id": "6-BDX7NEQyi5",
        "outputId": "64e583d0-9222-4e61-90ae-610f38217a0d"
      },
      "outputs": [
        {
          "output_type": "stream",
          "name": "stdout",
          "text": [
            "Rata-rata: 70.0\n",
            "Maksimum: 90\n",
            "Minimum: 50\n",
            "Standar deviasi: 14.14\n"
          ]
        }
      ],
      "source": [
        "data = np.array([50, 60, 70, 80, 90])\n",
        "\n",
        "print(\"Rata-rata:\", np.mean(data))\n",
        "print(\"Maksimum:\", np.max(data))\n",
        "print(\"Minimum:\", np.min(data))\n",
        "print(\"Standar deviasi:\", round(np.std(data), 2))"
      ]
    },
    {
      "cell_type": "markdown",
      "metadata": {
        "id": "SqQt26xqQyi7"
      },
      "source": [
        "## 🟩 5️⃣ Array 2 Dimensi (Matrix)\n",
        "\n",
        "NumPy mendukung **array 2D** untuk representasi matriks sangat berguna dalam simulasi radar, citra satelit, atau koordinasi drone."
      ]
    },
    {
      "cell_type": "code",
      "execution_count": 5,
      "metadata": {
        "colab": {
          "base_uri": "https://localhost:8080/"
        },
        "id": "J-Ysuye3Qyi8",
        "outputId": "1b0429ab-d5fd-434d-a52d-1677e9acaa9d"
      },
      "outputs": [
        {
          "output_type": "stream",
          "name": "stdout",
          "text": [
            "[[ 5 10 15]\n",
            " [20 25 30]\n",
            " [35 40 45]]\n",
            "Ukuran matrix: (3, 3)\n"
          ]
        }
      ],
      "source": [
        "matrix = np.array([\n",
        "    [5, 10, 15],\n",
        "    [20, 25, 30],\n",
        "    [35, 40, 45]\n",
        "])\n",
        "\n",
        "print(matrix)\n",
        "print(\"Ukuran matrix:\", matrix.shape)"
      ]
    },
    {
      "cell_type": "markdown",
      "metadata": {
        "id": "rehu4i4PQyi-"
      },
      "source": [
        "## 🟩 6️⃣ Operasi Matriks (Dot Product)\n",
        "\n",
        "Digunakan untuk menghitung hasil kali dua matriks dasar dari perhitungan AI dan koordinasi posisi objek."
      ]
    },
    {
      "cell_type": "code",
      "execution_count": 6,
      "metadata": {
        "colab": {
          "base_uri": "https://localhost:8080/"
        },
        "id": "Eb0jvq3PQyjA",
        "outputId": "049b57d5-d80f-4043-8d55-3a0ae5974979"
      },
      "outputs": [
        {
          "output_type": "stream",
          "name": "stdout",
          "text": [
            "[[19 22]\n",
            " [43 50]]\n"
          ]
        }
      ],
      "source": [
        "A = np.array([[1, 2], [3, 4]])\n",
        "B = np.array([[5, 6], [7, 8]])\n",
        "\n",
        "hasil = np.dot(A, B)\n",
        "print(hasil)"
      ]
    },
    {
      "cell_type": "markdown",
      "metadata": {
        "id": "k8IsFcDiQyjB"
      },
      "source": [
        "## 🟩 7️⃣ Membuat Data Otomatis\n",
        "\n",
        "NumPy dapat membuat data otomatis untuk keperluan simulasi atau uji model AI."
      ]
    },
    {
      "cell_type": "code",
      "execution_count": 7,
      "metadata": {
        "colab": {
          "base_uri": "https://localhost:8080/"
        },
        "id": "PSMOJrRMQyjC",
        "outputId": "63fa7bd5-8c23-408e-b654-df629697630f"
      },
      "outputs": [
        {
          "output_type": "stream",
          "name": "stdout",
          "text": [
            "[ 0 20 40 60 80]\n",
            "Data sensor radar: [84 49 22 57 53]\n"
          ]
        }
      ],
      "source": [
        "# Range data otomatis\n",
        "jarak = np.arange(0, 100, 20)\n",
        "print(jarak)\n",
        "\n",
        "# Data acak untuk simulasi sensor radar\n",
        "sensor = np.random.randint(1, 100, size=5)\n",
        "print(\"Data sensor radar:\", sensor)"
      ]
    },
    {
      "cell_type": "markdown",
      "metadata": {
        "id": "dqBNMbeIQyjD"
      },
      "source": [
        "## 🟩 8️⃣ Studi Kasus: Perhitungan Logistik Pos Operasi\n",
        "\n",
        "Simulasi penggunaan NumPy dalam menghitung kebutuhan logistik di beberapa pos TNI."
      ]
    },
    {
      "cell_type": "code",
      "execution_count": 8,
      "metadata": {
        "colab": {
          "base_uri": "https://localhost:8080/"
        },
        "id": "jXho_5-2QyjF",
        "outputId": "7625cbf6-b54a-4243-8cc1-7a1100b0bc9f"
      },
      "outputs": [
        {
          "output_type": "stream",
          "name": "stdout",
          "text": [
            "Total paket makanan per pos: [360 240 300 180]\n",
            "Kebutuhan total harian: 1080 paket/hari\n"
          ]
        }
      ],
      "source": [
        "# Jumlah prajurit dan kuota makan per prajurit\n",
        "prajurit = np.array([120, 80, 100, 60])\n",
        "makanan_per_prajurit = np.array([3, 3, 3, 3])  # paket per hari\n",
        "\n",
        "# Hitung total makanan\n",
        "total_makanan = prajurit * makanan_per_prajurit\n",
        "print(\"Total paket makanan per pos:\", total_makanan)\n",
        "print(\"Kebutuhan total harian:\", total_makanan.sum(), \"paket/hari\")"
      ]
    },
    {
      "cell_type": "markdown",
      "metadata": {
        "id": "bLeeUe4uQyjG"
      },
      "source": [
        "## 🟩 9️⃣ Visualisasi Data NumPy\n",
        "\n",
        "Menggunakan Matplotlib untuk menampilkan hasil perhitungan logistik dalam bentuk grafik batang."
      ]
    },
    {
      "cell_type": "code",
      "execution_count": 9,
      "metadata": {
        "colab": {
          "base_uri": "https://localhost:8080/",
          "height": 472
        },
        "id": "yvoEiY3nQyjH",
        "outputId": "9ab2fd85-d162-4486-da99-49f626d6ec0e"
      },
      "outputs": [
        {
          "output_type": "display_data",
          "data": {
            "text/plain": [
              "<Figure size 640x480 with 1 Axes>"
            ],
            "image/png": "[encoded data removed]"
          },
          "metadata": {}
        }
      ],
      "source": [
        "import matplotlib.pyplot as plt\n",
        "\n",
        "pos = [\"Utara\", \"Timur\", \"Selatan\", \"Barat\"]\n",
        "plt.bar(pos, total_makanan, color=\"darkolivegreen\")\n",
        "plt.title(\"Kebutuhan Logistik Harian per Pos Operasi\")\n",
        "plt.xlabel(\"Pos Operasi\")\n",
        "plt.ylabel(\"Jumlah Paket Makanan\")\n",
        "plt.show()"
      ]
    },
    {
      "cell_type": "markdown",
      "metadata": {
        "id": "JW4ByMiBQyjI"
      },
      "source": [
        "## 🟩 🔟 Exercise — Analisis Efisiensi Energi Kendaraan Operasional\n",
        "\n",
        "**Tugas:**\n",
        "1. Buat dua array:\n",
        "   - `energi_digunakan` (liter per kendaraan)\n",
        "   - `jumlah_kendaraan` (jumlah kendaraan di tiap pos)\n",
        "2. Hitung total energi yang digunakan tiap pos (perkalian array).\n",
        "3. Hitung total konsumsi energi seluruh pos (`sum()`).\n",
        "4. Buat grafik batang perbandingan energi antar pos.\n",
        "\n",
        "_Gunakan fungsi NumPy dan Matplotlib._"
      ]
    },
    {
      "cell_type": "code",
      "execution_count": 17,
      "metadata": {
        "colab": {
          "base_uri": "https://localhost:8080/",
          "height": 507
        },
        "id": "e4i_kSK1QyjJ",
        "outputId": "87feb12b-e367-4cfc-fefc-85657ff1bc0f"
      },
      "outputs": [
        {
          "output_type": "stream",
          "name": "stdout",
          "text": [
            "total energi yang digunakan tiap pos [84 60 64 35]\n",
            "Energi yang digunakan di seluruh pos sebesar 243 L\n"
          ]
        },
        {
          "output_type": "display_data",
          "data": {
            "text/plain": [
              "<Figure size 640x480 with 1 Axes>"
            ],
            "image/png": "[encoded data removed]"
          },
          "metadata": {}
        }
      ],
      "source": [
        "# 🧩 TODO: Lengkapi latihan efisiensi energi kendaraan operasional\n",
        "# Gunakan array NumPy dan tampilkan hasil dalam bentuk grafik\n",
        "import matplotlib.pyplot as plt\n",
        "import numpy as np\n",
        "\n",
        "pos = [\"Utara\", \"Timur\", \"Selatan\", \"Barat\"]\n",
        "energi_digunakan = np.array([12, 10, 8, 7])\n",
        "jumlah_kendaraan=np.array([7, 6, 8, 5])\n",
        "total_energi=energi_digunakan*jumlah_kendaraan\n",
        "print(\"total energi yang digunakan tiap pos\",total_energi)\n",
        "print(\"Energi yang digunakan di seluruh pos sebesar\",sum(total_energi),\"L\")\n",
        "plt.bar(pos, total_energi, color=\"blue\")\n",
        "plt.title(\"Kebutuhan Energi Harian per Pos Operasi\")\n",
        "plt.xlabel(\"Pos Operasi\")\n",
        "plt.ylabel(\"Jumlah Bensin (L)\") # This label seems incorrect based on the task\n",
        "plt.show()"
      ]
    },
    {
      "cell_type": "code",
      "source": [],
      "metadata": {
        "id": "HL73AikzbQlg"
      },
      "execution_count": null,
      "outputs": []
    }
  ],
  "metadata": {
    "kernelspec": {
      "display_name": "Python 3 (ipykernel)",
      "language": "python",
      "name": "python3"
    },
    "language_info": {
      "codemirror_mode": {
        "name": "ipython",
        "version": 3
      },
      "file_extension": ".py",
      "mimetype": "text/x-python",
      "name": "python",
      "nbconvert_exporter": "python",
      "pygments_lexer": "ipython3",
      "version": "3.11.11"
    },
    "colab": {
      "provenance": []
    }
  },
  "nbformat": 4,
  "nbformat_minor": 0
}