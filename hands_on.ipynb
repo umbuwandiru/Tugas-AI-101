{
  "cells": [
    {
      "cell_type": "markdown",
      "metadata": {
        "id": "view-in-github",
        "colab_type": "text"
      },
      "source": [
        "<a href=\"https://colab.research.google.com/github/umbuwandiru/Tugas-AI-101/blob/main/hands_on.ipynb\" target=\"_parent\"><img src=\"https://colab.research.google.com/assets/colab-badge.svg\" alt=\"Open In Colab\"/></a>"
      ]
    },
    {
      "cell_type": "markdown",
      "metadata": {
        "id": "AyMullWIFPEj"
      },
      "source": [
        "<center><a href=\"https://www.nvidia.com/dli\"> <img src=\"https://github.com/stanley160990/AI-101/blob/main/03-Python_Lanjut/Pelatihan-DLI.jpeg?raw=1\" alt=\"Header\" style=\"width: 1000px;\"/> </a></center>"
      ]
    },
    {
      "cell_type": "markdown",
      "metadata": {
        "id": "fUFAqz1_FPEx"
      },
      "source": [
        "# Tugas Mandiri Pemrograman Python Lanjut"
      ]
    },
    {
      "cell_type": "markdown",
      "metadata": {
        "id": "_z17FDoOFPEz"
      },
      "source": [
        "## Manipulasi Struktur Data"
      ]
    },
    {
      "cell_type": "markdown",
      "metadata": {
        "id": "Tn_2mgweFPE0"
      },
      "source": [
        "Buat Struktur data sebagai Berikut\n",
        "\n",
        "```\n",
        "{\n",
        "    \"id\": \"1234567\",\n",
        "    \"data\": [\n",
        "         {\n",
        "             \"nama\": \"nama1\",\n",
        "             \"kelas\" : \"kelas1\",\n",
        "             \"alanat\" : \"Alamat2\"\n",
        "         },{\n",
        "             \"nama\": \"nama2\",\n",
        "             \"kelas\" : \"kelas2\",\n",
        "             \"alanat\" : \"Alamat2\"\n",
        "         }   \n",
        "    ]\n",
        "}\n",
        "```"
      ]
    },
    {
      "cell_type": "code",
      "execution_count": null,
      "metadata": {
        "colab": {
          "base_uri": "https://localhost:8080/"
        },
        "id": "UUOULHRzFPE3",
        "outputId": "6465be27-3f80-4ba7-e1fc-a2368ba37e72"
      },
      "outputs": [
        {
          "output_type": "execute_result",
          "data": {
            "text/plain": [
              "{'id': '1234567',\n",
              " 'data': [{'nama': 'nama1', 'kelas': 'kelas1', 'alanat': 'Alamat2'},\n",
              "  {'nama': 'nama2', 'kelas': 'kelas2', 'alanat': 'Alamat2'}]}"
            ]
          },
          "metadata": {},
          "execution_count": 2
        }
      ],
      "source": [
        "# -------------- Isikan Disini -----------\n",
        "{\n",
        "    \"id\": \"1234567\",\n",
        "    \"data\": [\n",
        "        {\n",
        "            \"nama\": \"nama1\",\n",
        "            \"kelas\": \"kelas1\",\n",
        "            \"alanat\":\"Alamat2\"\n",
        "        },{\n",
        "            \"nama\": \"nama2\",\n",
        "            \"kelas\": \"kelas2\",\n",
        "            \"alanat\": \"Alamat2\"\n",
        "        }\n",
        "    ]\n",
        "}"
      ]
    },
    {
      "cell_type": "markdown",
      "metadata": {
        "id": "ao1HRQh4FPE6"
      },
      "source": [
        "## Memanipulasi Database MySQL"
      ]
    },
    {
      "cell_type": "markdown",
      "metadata": {
        "id": "ARLV-UYsFPE8"
      },
      "source": [
        "### Buat tabel profil\n",
        "* Buat Koneksi dengan detail sebagai berikut:\n",
        "    * host: 202.124.198.43\n",
        "    * username: tugas\n",
        "    * password: margonda101\n",
        "    * database: db_tugas"
      ]
    },
    {
      "cell_type": "code",
      "execution_count": null,
      "metadata": {
        "colab": {
          "base_uri": "https://localhost:8080/"
        },
        "id": "h82kF4y3FPE9",
        "outputId": "d1c01610-7585-45a6-82d8-161ee164ccfa"
      },
      "outputs": [
        {
          "output_type": "stream",
          "name": "stdout",
          "text": [
            "Requirement already satisfied: mysql-connector-python in /usr/local/lib/python3.12/dist-packages (9.4.0)\n"
          ]
        }
      ],
      "source": [
        "# -------- Buat Koneksi disini -----------\n",
        "!pip install mysql-connector-python\n",
        "import mysql.connector\n",
        "\n",
        "# Membuat koneksi ke database MySQL\n",
        "db = mysql.connector.connect(\n",
        "    host=\"202.124.198.43\",\n",
        "    user=\"tugas\",\n",
        "    password=\"margonda101\",\n",
        "    database=\"db_tugas\"\n",
        ")"
      ]
    },
    {
      "cell_type": "markdown",
      "metadata": {
        "id": "3MvDGB1PFPE-"
      },
      "source": [
        "### Buat Tabel Tabel\n",
        "* Buat table dengan nama profile_{nama_pertama_peserta} jika nama bapak jay idzes maka nama tabelnya **profile_jay** dengan kolom:\n",
        "    * nama tipe data varchar(255)\n",
        "    * Alamat tipe data varchar(255)\n",
        "    * jenis_kelamin tipe data varchar(255"
      ]
    },
    {
      "cell_type": "code",
      "execution_count": null,
      "metadata": {
        "colab": {
          "base_uri": "https://localhost:8080/"
        },
        "id": "amsZUcd9FPE_",
        "outputId": "d7d99ae6-b031-4159-c9fd-c14855f906fc"
      },
      "outputs": [
        {
          "output_type": "stream",
          "name": "stdout",
          "text": [
            "Berhasil terhubung ke database!\n",
            "Tabel 'profile_wandiru' berhasil dibuat!\n"
          ]
        }
      ],
      "source": [
        "# --------- Buat Tabel Disini -------------\n",
        "if db.is_connected():\n",
        "    print(\"Berhasil terhubung ke database!\")\n",
        "\n",
        "sql = \"\"\"\n",
        "CREATE TABLE profile_wandiru (\n",
        "    id INT AUTO_INCREMENT PRIMARY KEY,\n",
        "    nama VARCHAR(255) NOT NULL,\n",
        "    Alamat VARCHAR(225) NOT NULL,\n",
        "    jenis_kelamin VARCHAR(255)\n",
        ")\n",
        "\"\"\"\n",
        "# Membuat cursor untuk menjalankan query\n",
        "cursor = db.cursor()\n",
        "try:\n",
        "    cursor.execute(sql)\n",
        "    print(\"Tabel 'profile_wandiru' berhasil dibuat!\")\n",
        "except mysql.connector.Error as err:\n",
        "    print(f\"Gagal membuat tabel: {err}\")"
      ]
    },
    {
      "cell_type": "code",
      "source": [
        "sql = \"select * from profile_wandiru\"\n",
        "cursor.execute(sql)\n",
        "results = cursor.fetchall()\n",
        "for row in results:\n",
        "    print(row)"
      ],
      "metadata": {
        "id": "uuSHBFFHNOKR"
      },
      "execution_count": null,
      "outputs": []
    },
    {
      "cell_type": "markdown",
      "metadata": {
        "id": "JkYbA-LNFPFB"
      },
      "source": [
        "### Isi data tabel profile\n",
        "* Isi tabel Profile dengan: Nama, alamat, dan jenis_kelamin sebanyak 5 Data"
      ]
    },
    {
      "cell_type": "code",
      "execution_count": null,
      "metadata": {
        "id": "8t-2-FnoFPFC"
      },
      "outputs": [],
      "source": [
        "# --------- Isi Tabel Disini -------------\n",
        "insert_sql = \"INSERT INTO profile_wandiru (Nama, alamat, jenis_kelamin) VALUES (%s, %s, %s)\"\n",
        "data_to_insert = [\n",
        "    ('Praptama', 'Cimahi', 'Laki-laki'),\n",
        "    ('Faqih Fautyaz', 'Bekasi', 'Laki-laki'),\n",
        "    ('Raja Jaefant', 'Jakarta', 'Laki-laki'),\n",
        "    ('Fachri Al Aziz', 'Padang', 'Laki-laki'),\n",
        "    ('Syaloom Yunika', 'Jakarta', 'Perempuan')\n",
        "]\n",
        "cursor.executemany(insert_sql, data_to_insert)\n",
        "db.commit() # Commit the changes\n",
        "\n"
      ]
    },
    {
      "cell_type": "markdown",
      "metadata": {
        "id": "-l11R3rmFPFD"
      },
      "source": [
        "### Tampilan Data\n",
        "* Tampilkan isi Semua Data"
      ]
    },
    {
      "cell_type": "code",
      "execution_count": null,
      "metadata": {
        "colab": {
          "base_uri": "https://localhost:8080/"
        },
        "id": "H8wn4TmaFPFD",
        "outputId": "2c887bfb-5e41-4328-bfe0-35b282561405"
      },
      "outputs": [
        {
          "output_type": "stream",
          "name": "stdout",
          "text": [
            "(1, 'Praptama', 'Cimahi', 'Laki-laki')\n",
            "(2, 'Faqih Fautyaz', 'Bekasi', 'Laki-laki')\n",
            "(3, 'Raja Jaefant', 'Jakarta', 'Laki-laki')\n",
            "(4, 'Fachri Al Aziz', 'Padang', 'Laki-laki')\n",
            "(5, 'Syaloom Yunika', 'Jakarta', 'Perempuan')\n"
          ]
        }
      ],
      "source": [
        "# --------- Tampilkan Seluruh Data ---------\n",
        "sql = \"select * from profile_wandiru\"\n",
        "cursor.execute(sql)\n",
        "results = cursor.fetchall()\n",
        "for row in results:\n",
        "    print(row)"
      ]
    }
  ],
  "metadata": {
    "kernelspec": {
      "display_name": "Python 3 (ipykernel)",
      "language": "python",
      "name": "python3"
    },
    "language_info": {
      "codemirror_mode": {
        "name": "ipython",
        "version": 3
      },
      "file_extension": ".py",
      "mimetype": "text/x-python",
      "name": "python",
      "nbconvert_exporter": "python",
      "pygments_lexer": "ipython3",
      "version": "3.10.12"
    },
    "colab": {
      "provenance": [],
      "include_colab_link": true
    }
  },
  "nbformat": 4,
  "nbformat_minor": 0
}